{
 "cells": [
  {
   "cell_type": "code",
   "execution_count": 15,
   "metadata": {},
   "outputs": [
    {
     "name": "stdout",
     "output_type": "stream",
     "text": [
      "done\n"
     ]
    }
   ],
   "source": [
    "\n",
    "#------------------------------------------------------------------------\n",
    "# WES 207 Demo Code\n",
    "#------------------------------------------------------------------------\n",
    "\n",
    "from pynq import Overlay\n",
    "from pynq import MMIO\n",
    "import time\n",
    "import numpy as np\n",
    "\n",
    "print('done')"
   ]
  },
  {
   "cell_type": "code",
   "execution_count": 16,
   "metadata": {
    "scrolled": true
   },
   "outputs": [
    {
     "name": "stdout",
     "output_type": "stream",
     "text": [
      "done\n",
      "  \n",
      "0.4184446334838867 seconds to program bitstream\n"
     ]
    }
   ],
   "source": [
    "\n",
    "# Load bitstream\n",
    "ol = Overlay('AXI_SPI_BUS_PMOD_NAV_13.bit')\n",
    "\n",
    "# Download bitstream to FPGA\n",
    "t_before_bitstream = time.time()\n",
    "ol.download()\n",
    "t_after_bitstream = time.time()\n",
    "\n",
    "print('done')\n",
    "print('  ')\n",
    "print(t_after_bitstream - t_before_bitstream, 'seconds to program bitstream')"
   ]
  },
  {
   "cell_type": "markdown",
   "metadata": {},
   "source": [
    "### initializing MMIO objects for IP core debug"
   ]
  },
  {
   "cell_type": "code",
   "execution_count": 17,
   "metadata": {},
   "outputs": [
    {
     "name": "stdout",
     "output_type": "stream",
     "text": [
      "MMIO Debug: MMIO(address, size) = (41e00000, 1000 bytes).\n",
      "MMIO Debug: MMIO(address, size) = (43c00000, 1000 bytes).\n",
      " \n",
      "done\n"
     ]
    }
   ],
   "source": [
    "# new core test\n",
    "\n",
    "# testing SPI output\n",
    "\n",
    "# SPI CORE config\n",
    "SPI_DRIVER_BASE_ADDRESS = 0x43C00000\n",
    "QUAD_SPI_BASE_ADDERSS = 0x41E00000\n",
    "ADDRESS_RANGE = 0x1000\n",
    "\n",
    "# creating SPI CORE object for messages\n",
    "SPI_CORE = MMIO(QUAD_SPI_BASE_ADDERSS,ADDRESS_RANGE, True)\n",
    "SPI_DRIVER = MMIO(SPI_DRIVER_BASE_ADDRESS,ADDRESS_RANGE, True)\n",
    "\n",
    "print(' ')\n",
    "print('done')"
   ]
  },
  {
   "cell_type": "markdown",
   "metadata": {},
   "source": [
    "## Debug Cells Below"
   ]
  },
  {
   "cell_type": "markdown",
   "metadata": {},
   "source": [
    "### reading CTRL register from HLS core"
   ]
  },
  {
   "cell_type": "code",
   "execution_count": 22,
   "metadata": {},
   "outputs": [
    {
     "name": "stdout",
     "output_type": "stream",
     "text": [
      "MMIO Debug: Reading 4 bytes from offset 0\n",
      "139\n",
      " \n",
      "done\n"
     ]
    }
   ],
   "source": [
    "# test reads\n",
    "\n",
    "test = SPI_DRIVER.read(0x00)\n",
    "\n",
    "print(test)\n",
    "\n",
    "\n",
    "print(' ')\n",
    "print('done')"
   ]
  },
  {
   "cell_type": "markdown",
   "metadata": {},
   "source": [
    "### writing ap_start and auto_restart CTRL bits in HLS core"
   ]
  },
  {
   "cell_type": "code",
   "execution_count": 20,
   "metadata": {},
   "outputs": [
    {
     "name": "stdout",
     "output_type": "stream",
     "text": [
      "MMIO Debug: Writing 4 bytes to offset 0: 81\n",
      " \n",
      "done\n"
     ]
    }
   ],
   "source": [
    "# test code\n",
    "\n",
    "# setting ap_start/auto reset on SPI Driver\n",
    "SPI_DRIVER.write(0x00,0x81)\n",
    "\n",
    "print(' ')\n",
    "print('done')"
   ]
  },
  {
   "cell_type": "markdown",
   "metadata": {},
   "source": [
    "### test read of QUAD SPI IP core configuration registers"
   ]
  },
  {
   "cell_type": "code",
   "execution_count": 23,
   "metadata": {},
   "outputs": [
    {
     "name": "stdout",
     "output_type": "stream",
     "text": [
      "MMIO Debug: Reading 4 bytes from offset 60\n",
      "MMIO Debug: Reading 4 bytes from offset 70\n",
      "384\n",
      "1\n",
      "done\n"
     ]
    }
   ],
   "source": [
    "# this is a basic configuration of the SPI core\n",
    "# I would read through the docs a bit more and make sure this is correct\n",
    "# it seems to work as is, 8 bit addres and 8 bit data with SS and CLK\n",
    "\n",
    "# testing config\n",
    "#SPI_CORE.write(0x60, 0x6) # enable SPI core in master mode, auto SS\n",
    "#SPI_CORE.write(0x70, 0xFFFE) # enable SS 0\n",
    "\n",
    "# reading back config registers\n",
    "read1 = SPI_CORE.read(0x60)\n",
    "read2 = SPI_CORE.read(0x70)\n",
    "\n",
    "print(read1)\n",
    "print(read2)\n",
    "print('done')"
   ]
  },
  {
   "cell_type": "code",
   "execution_count": null,
   "metadata": {},
   "outputs": [],
   "source": []
  },
  {
   "cell_type": "code",
   "execution_count": null,
   "metadata": {},
   "outputs": [],
   "source": []
  },
  {
   "cell_type": "code",
   "execution_count": null,
   "metadata": {},
   "outputs": [],
   "source": [
    "\n",
    "\n",
    "# Address space definitions for PMODNAV\n",
    "ACC_X_L_ADDR   =  0x28\n",
    "MAG_X_L_ADDR   =  0x28\n",
    "GYRO_X_L_ADDR  =  0x18\n",
    "ALT_X_L_ADDR   =  0x28\n",
    "\n",
    "CTRL_REG6_XL_ADDR  =  0x20\n",
    "\n",
    "X_DIR_SEL    =   0x01\n",
    "Y_DIR_SEL    =   0x02\n",
    "Z_DIR_SEL    =   0x03\n",
    "\n",
    "READ_CFG    =   0x80  # bit 7 high\n",
    "WRITE_CFG   =   0x7F  # bit 7 low\n",
    "MS_CFG      =   0xC0  # 11000000\n",
    "\n",
    "STATE_ON    =   0x01\n",
    "STATE_OFF   =   0x00\n",
    "\n",
    "CTRL_REG5_XL =  0x1F\n",
    "CTRL_REG6_XL =  0x20\n",
    "CTRL_REG4    =  0x1E\n",
    "\n",
    "CTRL_REG1_M  =  0x20\n",
    "CTRL_REG2_M  =  0x21\n",
    "CTRL_REG3_M  =  0x22\n",
    "CTRL_REG4_M  =  0x23\n",
    "CTRL_REG5_M  =  0x24\n",
    "\n",
    "CTRL_REG1_G  =  0x10\n",
    "CTRL_REG2_G  =  0x11\n",
    "CTRL_REG3_G  =  0x12\n",
    "\n",
    "CTRL_REG1_ALT = 0x20\n",
    "CTRL_REG2_ALT = 0x21\n",
    "CTRL_REG4_ALT = 0x23\n",
    "\n",
    "GYRO_WHO_AM_I  = 0x0F\n",
    "# end PMODNav definitions"
   ]
  },
  {
   "cell_type": "code",
   "execution_count": null,
   "metadata": {},
   "outputs": [],
   "source": [
    "# testing SPI output\n",
    "\n",
    "# SPI CORE config\n",
    "IP_BASE_ADDRESS = 0x41E00000\n",
    "ADDRESS_RANGE = 0xFFFF\n",
    "\n",
    "\n",
    "# Address space definitions for PMODNAV\n",
    "ACC_X_L_ADDR   =  0x28\n",
    "MAG_X_L_ADDR   =  0x28\n",
    "GYRO_X_L_ADDR  =  0x18\n",
    "ALT_X_L_ADDR   =  0x28\n",
    "\n",
    "CTRL_REG6_XL_ADDR  =  0x20\n",
    "\n",
    "X_DIR_SEL    =   0x01\n",
    "Y_DIR_SEL    =   0x02\n",
    "Z_DIR_SEL    =   0x03\n",
    "\n",
    "READ_CFG    =   0x80  # bit 7 high\n",
    "WRITE_CFG   =   0x7F  # bit 7 low\n",
    "MS_CFG      =   0xC0  # 11000000\n",
    "\n",
    "STATE_ON    =   0x01\n",
    "STATE_OFF   =   0x00\n",
    "\n",
    "CTRL_REG5_XL =  0x1F\n",
    "CTRL_REG6_XL =  0x20\n",
    "CTRL_REG4    =  0x1E\n",
    "\n",
    "CTRL_REG1_M  =  0x20\n",
    "CTRL_REG2_M  =  0x21\n",
    "CTRL_REG3_M  =  0x22\n",
    "CTRL_REG4_M  =  0x23\n",
    "CTRL_REG5_M  =  0x24\n",
    "\n",
    "CTRL_REG1_G  =  0x10\n",
    "CTRL_REG2_G  =  0x11\n",
    "CTRL_REG3_G  =  0x12\n",
    "\n",
    "CTRL_REG1_ALT = 0x20\n",
    "CTRL_REG2_ALT = 0x21\n",
    "CTRL_REG4_ALT = 0x23\n",
    "\n",
    "GYRO_WHO_AM_I  = 0x0F\n",
    "# end PMODNav definitions\n",
    "\n",
    "# creating SPI CORE object for messages\n",
    "SPI_CORE = MMIO(IP_BASE_ADDRESS,ADDRESS_RANGE)\n",
    "\n",
    "# this is a basic configuration of the SPI core\n",
    "# I would read through the docs a bit more and make sure this is correct\n",
    "# it seems to work as is, 8 bit addres and 8 bit data with SS and CLK\n",
    "\n",
    "# testing config\n",
    "SPI_CORE.write(0x60, 0x006) # enable SPI core in master mode, auto SS\n",
    "SPI_CORE.write(0x70, 0xFFFE) # enable SS 0\n",
    "\n",
    "\n",
    "\n",
    "print('done')\n"
   ]
  },
  {
   "cell_type": "code",
   "execution_count": null,
   "metadata": {},
   "outputs": [],
   "source": [
    "# testing write\n",
    "\n",
    "OFFSET = 0x68\n",
    "\n",
    "ADDRESS = 0X55\n",
    "DATA = 0X55\n",
    "\n",
    "# I put this together for a basic configuration of the messages\n",
    "# each read/write needs to be tailored so\n",
    "MESSAGE = (ADDRESS << 8) | DATA \n",
    "\n",
    "SPI_CORE.write(OFFSET, MESSAGE) # try to send data\n",
    "\n",
    "#ADDRESS = 0XDE\n",
    "#DATA = 0XAD\n",
    "\n",
    "# I put this together for a basic configuration of the messages\n",
    "# each read/write needs to be tailored so\n",
    "#MESSAGE = (ADDRESS << 8) | DATA \n",
    "\n",
    "#SPI_CORE.write(OFFSET, MESSAGE) # try to send data\n",
    "\n",
    "#ADDRESS = 0XBE\n",
    "#DATA = 0XEF\n",
    "#MESSAGE = (ADDRESS << 8) | DATA \n",
    "\n",
    "#SPI_CORE.write(OFFSET, MESSAGE) # try to send data\n",
    "\n",
    "#print('done')"
   ]
  },
  {
   "cell_type": "code",
   "execution_count": null,
   "metadata": {},
   "outputs": [],
   "source": []
  },
  {
   "cell_type": "code",
   "execution_count": null,
   "metadata": {},
   "outputs": [],
   "source": []
  },
  {
   "cell_type": "code",
   "execution_count": null,
   "metadata": {},
   "outputs": [],
   "source": []
  },
  {
   "cell_type": "code",
   "execution_count": null,
   "metadata": {},
   "outputs": [],
   "source": []
  },
  {
   "cell_type": "code",
   "execution_count": null,
   "metadata": {},
   "outputs": [],
   "source": []
  },
  {
   "cell_type": "code",
   "execution_count": null,
   "metadata": {},
   "outputs": [],
   "source": []
  },
  {
   "cell_type": "code",
   "execution_count": null,
   "metadata": {},
   "outputs": [],
   "source": []
  }
 ],
 "metadata": {
  "kernelspec": {
   "display_name": "Python 3",
   "language": "python",
   "name": "python3"
  },
  "language_info": {
   "codemirror_mode": {
    "name": "ipython",
    "version": 3
   },
   "file_extension": ".py",
   "mimetype": "text/x-python",
   "name": "python",
   "nbconvert_exporter": "python",
   "pygments_lexer": "ipython3",
   "version": "3.6.5"
  }
 },
 "nbformat": 4,
 "nbformat_minor": 2
}
