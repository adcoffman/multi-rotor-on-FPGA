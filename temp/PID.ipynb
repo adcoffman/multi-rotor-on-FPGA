{
 "cells": [
  {
   "cell_type": "markdown",
   "metadata": {},
   "source": [
    "# Initialize"
   ]
  },
  {
   "cell_type": "code",
   "execution_count": 1,
   "metadata": {},
   "outputs": [
    {
     "data": {
      "application/javascript": [
       "\n",
       "require(['notebook/js/codecell'], function(codecell) {\n",
       "  codecell.CodeCell.options_default.highlight_modes[\n",
       "      'magic_text/x-csrc'] = {'reg':[/^%%microblaze/]};\n",
       "  Jupyter.notebook.events.one('kernel_ready.Kernel', function(){\n",
       "      Jupyter.notebook.get_cells().map(function(cell){\n",
       "          if (cell.cell_type == 'code'){ cell.auto_highlight(); } }) ;\n",
       "  });\n",
       "});\n"
      ]
     },
     "metadata": {},
     "output_type": "display_data"
    }
   ],
   "source": [
    "import pynq\n",
    "from pynq.overlays.base import BaseOverlay\n",
    "from ctypes import *\n",
    "import time\n",
    "import numpy as np\n",
    "\n",
    "ol = BaseOverlay(\"base.bit\")"
   ]
  },
  {
   "cell_type": "markdown",
   "metadata": {},
   "source": [
    "# PID"
   ]
  },
  {
   "cell_type": "code",
   "execution_count": 6,
   "metadata": {},
   "outputs": [
    {
     "data": {
      "text/html": [
       "<pre>Compile FAILED\n",
       "Error parsing code\n",
       "cell_magic:21:23: before: integral</pre>"
      ],
      "text/plain": [
       "<IPython.core.display.HTML object>"
      ]
     },
     "execution_count": 6,
     "metadata": {},
     "output_type": "execute_result"
    }
   ],
   "source": [
    "%%microblaze ol.PMODA\n",
    "\n",
    "#define MOTOR_COUNT 6\n",
    "#define RC_CHANNELS 6\n",
    "#define clip(in,low,high) ((in)<(low)?(low):((in)>(high)?(high):(in)))\n",
    "float MIX_C[6][3] = {{.5,-0.57735026919,1},{1,0,-1},{.5,.57735026919,1},{-.5,-.57735026919,-1},{-1,0,1},{-.5,.57735026919,-1}};\n",
    "\n",
    "void pid(float rcCmdIn[5],float measured[4],float kp[3],float kd[2], float ki[2],float commandOut[4096]) {\n",
    "\n",
    "static float last_error[2]={0,0};\n",
    "static float integral[2]={0,0};\n",
    "float pid_o[3];\n",
    "float curr_error[2];\n",
    "float deriv[2];\n",
    "float correction[2];\n",
    "#****************************************\n",
    "#ROLL PID CONTROLLER\n",
    "#*****************************************/\n",
    "\n",
    "curr_error[0]= rcCmdIn[0] - measured[0]*5;\n",
    "integral[0] =  clip(float(integral[0] + curr_error[0]),float(-100),float(100));\n",
    "deriv[0] = (curr_error[0]-last_error[0]);\n",
    "correction[0] = (kp[0] * curr_error[0]) + (ki[0] * integral[0]) + (kd[0] * deriv[0]);\n",
    "pid_o[0] = clip(correction[0],float(-1),float(.999));\n",
    "last_error[0] = curr_error[0];\n",
    "\n",
    "#****************************************\n",
    "#pitch PID CONTROLLER\n",
    "#*****************************************/\n",
    "\n",
    "curr_error[1] = rcCmdIn[1] - measured[1]*5;\n",
    "integral[1] =  clip(float(integral[1] + curr_error[1]),float(-100),float(100));\n",
    "deriv[1] = (curr_error[1]-last_error[1]);\n",
    "correction[1] = (kp[1] * curr_error[1]) + (ki[1] * integral[1]) + (kd[1] * deriv[1]);\n",
    "pid_o[1] = clip(correction[1],float(-1),float(.999));\n",
    "last_error[1] = curr_error[1];\n",
    "\n",
    "#****************************************\n",
    "#yaw P CONTROLLER\n",
    "#****************************************\n",
    "\n",
    "pid_o[2] = kp[2]*(rcCmdIn[3] - measured[3]);\n",
    "\n",
    "\n",
    "# mixed _in contains noramlized values for each channel\n",
    "# lets convert those to what we want to use\n",
    "# change all to float and make sure thrust is scaled to [0,1)\n",
    "float r_c = pid_o[0];\n",
    "float p_c = pid_o[1];\n",
    "float t_c = rcCmdIn[2]*float(.5)+float(.5);//move scale to [-.5,.5) then [0,1)\n",
    "float y_c = pid_o[2];\n",
    "\n",
    "for(char i=0; i < 6; i++){\n",
    "float scaled_power = t_c+(r_c*MIX_C[i][0]+p_c*MIX_C[i][1]+ y_c*MIX_C[i][2])*float(.33);\n",
    "commandOut[i]=float(clip(scaled_power,float(0),float(.999)));\n",
    "}\n",
    "commandOut[6]=rcCmdIn[4];\n",
    "}"
   ]
  },
  {
   "cell_type": "code",
   "execution_count": null,
   "metadata": {},
   "outputs": [],
   "source": [
    "\n"
   ]
  }
 ],
 "metadata": {
  "kernelspec": {
   "display_name": "Python 3",
   "language": "python",
   "name": "python3"
  },
  "language_info": {
   "codemirror_mode": {
    "name": "ipython",
    "version": 3
   },
   "file_extension": ".py",
   "mimetype": "text/x-python",
   "name": "python",
   "nbconvert_exporter": "python",
   "pygments_lexer": "ipython3",
   "version": "3.6.5"
  }
 },
 "nbformat": 4,
 "nbformat_minor": 2
}
