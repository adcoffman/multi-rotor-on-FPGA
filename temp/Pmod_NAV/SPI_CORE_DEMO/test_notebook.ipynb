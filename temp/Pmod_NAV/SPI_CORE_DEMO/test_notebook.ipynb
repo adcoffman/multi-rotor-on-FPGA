{
 "cells": [
  {
   "cell_type": "code",
   "execution_count": 52,
   "metadata": {},
   "outputs": [],
   "source": [
    "\n",
    "#------------------------------------------------------------------------\n",
    "# WES 269 SBUS Demo Code\n",
    "#\n",
    "# This code serves as a baseline for configuring the UART16550 core\n",
    "# and polling data from the RX FIFO\n",
    "#------------------------------------------------------------------------\n",
    "\n",
    "from pynq import Overlay\n",
    "from pynq import MMIO\n",
    "import time\n",
    "import numpy as np"
   ]
  },
  {
   "cell_type": "code",
   "execution_count": 53,
   "metadata": {},
   "outputs": [
    {
     "name": "stdout",
     "output_type": "stream",
     "text": [
      "  \n",
      "0.41256213188171387 seconds to program bitstream\n"
     ]
    }
   ],
   "source": [
    "\n",
    "# Load bitstream\n",
    "ol = Overlay('SPI_PMODNAV_test4.bit')\n",
    "\n",
    "# Download bitstream to FPGA\n",
    "t_before_bitstream = time.time()\n",
    "ol.download()\n",
    "t_after_bitstream = time.time()\n",
    "print('  ')\n",
    "print(t_after_bitstream - t_before_bitstream, 'seconds to program bitstream')"
   ]
  },
  {
   "cell_type": "code",
   "execution_count": 55,
   "metadata": {},
   "outputs": [
    {
     "name": "stdout",
     "output_type": "stream",
     "text": [
      "done\n"
     ]
    }
   ],
   "source": [
    "# testing SPI output\n",
    "\n",
    "# SPI CORE config\n",
    "IP_BASE_ADDRESS = 0x41E00000\n",
    "ADDRESS_RANGE = 0xFFFF\n",
    "\n",
    "\n",
    "# Address space definitions for PMODNAV\n",
    "ACC_X_L_ADDR   =  0x28\n",
    "MAG_X_L_ADDR   =  0x28\n",
    "GYRO_X_L_ADDR  =  0x18\n",
    "ALT_X_L_ADDR   =  0x28\n",
    "\n",
    "CTRL_REG6_XL_ADDR  =  0x20\n",
    "\n",
    "X_DIR_SEL    =   0x01\n",
    "Y_DIR_SEL    =   0x02\n",
    "Z_DIR_SEL    =   0x03\n",
    "\n",
    "READ_CFG    =   0x80  # bit 7 high\n",
    "WRITE_CFG   =   0x7F  # bit 7 low\n",
    "MS_CFG      =   0xC0  # 11000000\n",
    "\n",
    "STATE_ON    =   0x01\n",
    "STATE_OFF   =   0x00\n",
    "\n",
    "CTRL_REG5_XL =  0x1F\n",
    "CTRL_REG6_XL =  0x20\n",
    "CTRL_REG4    =  0x1E\n",
    "\n",
    "CTRL_REG1_M  =  0x20\n",
    "CTRL_REG2_M  =  0x21\n",
    "CTRL_REG3_M  =  0x22\n",
    "CTRL_REG4_M  =  0x23\n",
    "CTRL_REG5_M  =  0x24\n",
    "\n",
    "CTRL_REG1_G  =  0x10\n",
    "CTRL_REG2_G  =  0x11\n",
    "CTRL_REG3_G  =  0x12\n",
    "\n",
    "CTRL_REG1_ALT = 0x20\n",
    "CTRL_REG2_ALT = 0x21\n",
    "CTRL_REG4_ALT = 0x23\n",
    "\n",
    "GYRO_WHO_AM_I  = 0x0F\n",
    "# end PMODNav definitions\n",
    "\n",
    "# creating SPI CORE object for messages\n",
    "SPI_CORE = MMIO(IP_BASE_ADDRESS,ADDRESS_RANGE)\n",
    "\n",
    "# this is a basic configuration of the SPI core\n",
    "# I would read through the docs a bit more and make sure this is correct\n",
    "# it seems to work as is, 8 bit addres and 8 bit data with SS and CLK\n",
    "\n",
    "# testing config\n",
    "SPI_CORE.write(0x60, 0x006) # enable SPI core in master mode, auto SS\n",
    "SPI_CORE.write(0x70, 0xFFFE) # enable SS 0\n",
    "\n",
    "\n",
    "\n",
    "print('done')\n"
   ]
  },
  {
   "cell_type": "code",
   "execution_count": 60,
   "metadata": {},
   "outputs": [
    {
     "name": "stdout",
     "output_type": "stream",
     "text": [
      "done\n"
     ]
    }
   ],
   "source": [
    "# testing write\n",
    "\n",
    "OFFSET = 0x68\n",
    "ADDRESS = 0X66\n",
    "DATA = 0XD5\n",
    "\n",
    "# I put this together for a basic configuration of the messages\n",
    "# each read/write needs to be tailored so\n",
    "MESSAGE = (ADDRESS << 8) | DATA \n",
    "\n",
    "\n",
    "SPI_CORE.write(OFFSET, MESSAGE) # try to send data\n",
    "\n",
    "print('done')"
   ]
  },
  {
   "cell_type": "code",
   "execution_count": 21,
   "metadata": {},
   "outputs": [],
   "source": []
  },
  {
   "cell_type": "code",
   "execution_count": 9,
   "metadata": {},
   "outputs": [
    {
     "name": "stdout",
     "output_type": "stream",
     "text": [
      "UART16550 Core Configuration Complete\n"
     ]
    }
   ],
   "source": []
  },
  {
   "cell_type": "code",
   "execution_count": 101,
   "metadata": {},
   "outputs": [],
   "source": []
  },
  {
   "cell_type": "code",
   "execution_count": 106,
   "metadata": {},
   "outputs": [
    {
     "name": "stdout",
     "output_type": "stream",
     "text": [
      "Total bytes read:  25\n",
      "83e4a53b1fc7e3d02e022302e72e2383838323e4e4e4e4e4e4\n"
     ]
    }
   ],
   "source": []
  },
  {
   "cell_type": "code",
   "execution_count": 68,
   "metadata": {},
   "outputs": [],
   "source": []
  },
  {
   "cell_type": "code",
   "execution_count": 69,
   "metadata": {},
   "outputs": [
    {
     "name": "stdout",
     "output_type": "stream",
     "text": [
      "250\n"
     ]
    }
   ],
   "source": []
  },
  {
   "cell_type": "code",
   "execution_count": null,
   "metadata": {},
   "outputs": [],
   "source": []
  }
 ],
 "metadata": {
  "kernelspec": {
   "display_name": "Python 3",
   "language": "python",
   "name": "python3"
  },
  "language_info": {
   "codemirror_mode": {
    "name": "ipython",
    "version": 3
   },
   "file_extension": ".py",
   "mimetype": "text/x-python",
   "name": "python",
   "nbconvert_exporter": "python",
   "pygments_lexer": "ipython3",
   "version": "3.6.5"
  }
 },
 "nbformat": 4,
 "nbformat_minor": 2
}
