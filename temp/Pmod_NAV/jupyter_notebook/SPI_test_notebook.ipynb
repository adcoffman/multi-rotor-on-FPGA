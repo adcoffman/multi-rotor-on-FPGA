{
 "cells": [
  {
   "cell_type": "code",
   "execution_count": 1,
   "metadata": {},
   "outputs": [
    {
     "data": {
      "application/javascript": [
       "\n",
       "require(['notebook/js/codecell'], function(codecell) {\n",
       "  codecell.CodeCell.options_default.highlight_modes[\n",
       "      'magic_text/x-csrc'] = {'reg':[/^%%microblaze/]};\n",
       "  Jupyter.notebook.events.one('kernel_ready.Kernel', function(){\n",
       "      Jupyter.notebook.get_cells().map(function(cell){\n",
       "          if (cell.cell_type == 'code'){ cell.auto_highlight(); } }) ;\n",
       "  });\n",
       "});\n"
      ]
     },
     "metadata": {},
     "output_type": "display_data"
    },
    {
     "name": "stdout",
     "output_type": "stream",
     "text": [
      "done\n"
     ]
    }
   ],
   "source": [
    "\n",
    "#------------------------------------------------------------------------\n",
    "# WES 207 Demo Code\n",
    "#------------------------------------------------------------------------\n",
    "\n",
    "from pynq import Overlay\n",
    "from pynq import MMIO\n",
    "import time\n",
    "import numpy as np\n",
    "\n",
    "print('done')"
   ]
  },
  {
   "cell_type": "code",
   "execution_count": 2,
   "metadata": {
    "scrolled": true
   },
   "outputs": [
    {
     "name": "stdout",
     "output_type": "stream",
     "text": [
      "done\n",
      "  \n",
      "0.4128880500793457 seconds to program bitstream\n"
     ]
    }
   ],
   "source": [
    "\n",
    "# Load bitstream\n",
    "ol = Overlay('AXI_SPI_BUS_PMOD_NAV_23.bit')\n",
    "\n",
    "# Download bitstream to FPGA\n",
    "t_before_bitstream = time.time()\n",
    "ol.download()\n",
    "t_after_bitstream = time.time()\n",
    "\n",
    "print('done')\n",
    "print('  ')\n",
    "print(t_after_bitstream - t_before_bitstream, 'seconds to program bitstream')"
   ]
  },
  {
   "cell_type": "markdown",
   "metadata": {},
   "source": [
    "### initializing MMIO objects for IP core debug"
   ]
  },
  {
   "cell_type": "code",
   "execution_count": 3,
   "metadata": {},
   "outputs": [
    {
     "name": "stdout",
     "output_type": "stream",
     "text": [
      "MMIO Debug: MMIO(address, size) = (41e00000, 1000 bytes).\n",
      "MMIO Debug: MMIO(address, size) = (40000000, 1000 bytes).\n",
      "MMIO Debug: MMIO(address, size) = (40004000, 4000 bytes).\n",
      " \n",
      "done\n"
     ]
    }
   ],
   "source": [
    "# new core test\n",
    "\n",
    "# testing SPI output\n",
    "\n",
    "# SPI CORE config\n",
    "QUAD_SPI_BASE_ADDERSS = 0x41E00000\n",
    "SPI_DRIVER_BASE_ADDRESS = 0x40000000\n",
    "SPI_DRIVER_DATA_ADDRESS = 0x40004000\n",
    "#SPI_DRIVER_TEST_ADDRESS = 0x40012000\n",
    "\n",
    "#POSITION_CTRL_DATA_ADDRESS = 0x40010000\n",
    "#POSITION_TEST_DATA_ADDRESS = 0x40020000\n",
    "ADDRESS_RANGE = 0x1000 # 4k size\n",
    "#ADDRESS_RANGE_8K = 0x2000 # 8k size\n",
    "ADDRESS_RANGE_16K = 0x4000 # 16k size\n",
    "\n",
    "# creating SPI CORE object for messages\n",
    "QSPI_CORE = MMIO(QUAD_SPI_BASE_ADDERSS,ADDRESS_RANGE, True)\n",
    "SPI_DRIVER = MMIO(SPI_DRIVER_BASE_ADDRESS,ADDRESS_RANGE, True)\n",
    "SPI_DATA = MMIO(SPI_DRIVER_DATA_ADDRESS,ADDRESS_RANGE_16K,True)\n",
    "#SPI_TEST = MMIO(SPI_DRIVER_TEST_ADDRESS,ADDRESS_RANGE_8K,True)\n",
    "\n",
    "#POS_DATA = MMIO(POSITION_CTRL_DATA_ADDRESS, ADDRESS_RANGE,True)\n",
    "#POS_TEST = MMIO(POSITION_TEST_DATA_ADDRESS, ADDRESS_RANGE,True)\n",
    "\n",
    "print(' ')\n",
    "print('done')"
   ]
  },
  {
   "cell_type": "markdown",
   "metadata": {},
   "source": [
    "## Debug Cells Below"
   ]
  },
  {
   "cell_type": "markdown",
   "metadata": {},
   "source": [
    "### reading CTRL register from HLS core"
   ]
  },
  {
   "cell_type": "code",
   "execution_count": 4,
   "metadata": {},
   "outputs": [
    {
     "name": "stdout",
     "output_type": "stream",
     "text": [
      "MMIO Debug: Reading 4 bytes from offset 0\n",
      "\n",
      "Calling SPI_Driver.read(0x00):\n",
      "4\n",
      "done\n"
     ]
    }
   ],
   "source": [
    "# test reads\n",
    "\n",
    "test = SPI_DRIVER.read(0x00)\n",
    "print('\\nCalling SPI_Driver.read(0x00):')\n",
    "print(test)\n",
    "\n",
    "print('done')"
   ]
  },
  {
   "cell_type": "markdown",
   "metadata": {},
   "source": [
    "### writing ap_start and auto_restart CTRL bits in HLS core"
   ]
  },
  {
   "cell_type": "code",
   "execution_count": 45,
   "metadata": {},
   "outputs": [
    {
     "name": "stdout",
     "output_type": "stream",
     "text": [
      "MMIO Debug: Writing 4 bytes to offset 0: 1\n",
      "MMIO Debug: Reading 4 bytes from offset 0\n",
      "\n",
      "Calling SPI_DRIVER.write(0x00,0x01)\n",
      "Calling SPI_Driver.read(0x00):\n",
      "6\n",
      "done\n"
     ]
    }
   ],
   "source": [
    "# test code\n",
    "\n",
    "# setting ap_start/auto reset on SPI Driver\n",
    "#SPI_DRIVER.write(0x00,0x81) #runs continuously, see xax_spi_driver_hw.h\n",
    "\n",
    "# setting \n",
    "SPI_DRIVER.write(0x00,0x01) #runs once\n",
    "#SPI_DRIVER.write(0x00,0x81) #runs continuously, see xax_spi_driver_hw.h\n",
    "\n",
    "READ = SPI_DRIVER.read(0x00)\n",
    "print('\\nCalling SPI_DRIVER.write(0x00,0x01)')\n",
    "print('Calling SPI_Driver.read(0x00):')\n",
    "print(READ)\n",
    "\n",
    "print('done')"
   ]
  },
  {
   "cell_type": "markdown",
   "metadata": {},
   "source": [
    "### test read of QUAD SPI IP core configuration registers"
   ]
  },
  {
   "cell_type": "code",
   "execution_count": 25,
   "metadata": {},
   "outputs": [
    {
     "name": "stdout",
     "output_type": "stream",
     "text": [
      "MMIO Debug: Writing 4 bytes to offset 60: 6\n",
      "MMIO Debug: Writing 4 bytes to offset 70: fffe\n",
      "MMIO Debug: Reading 4 bytes from offset 60\n",
      "MMIO Debug: Reading 4 bytes from offset 70\n",
      "6\n",
      "0\n",
      "done\n"
     ]
    }
   ],
   "source": [
    "# this is a basic configuration of the SPI core\n",
    "# I would read through the docs a bit more and make sure this is correct\n",
    "# it seems to work as is, 8 bit addres and 8 bit data with SS and CLK\n",
    "\n",
    "# testing config\n",
    "QSPI_CORE.write(0x60, 0x6) # enable QSPI core in master mode, auto SS\n",
    "QSPI_CORE.write(0x70, 0xFFFE) # enable SS 0\n",
    "\n",
    "# reading back config registers\n",
    "read1 = QSPI_CORE.read(0x60)\n",
    "read2 = QSPI_CORE.read(0x70)\n",
    "\n",
    "print(read1)\n",
    "print(read2)\n",
    "print('done')"
   ]
  },
  {
   "cell_type": "markdown",
   "metadata": {},
   "source": [
    "### Testing read from PMODNav GYRO/ACC WHO_AM_I Register 0x0F"
   ]
  },
  {
   "cell_type": "code",
   "execution_count": 31,
   "metadata": {},
   "outputs": [
    {
     "name": "stdout",
     "output_type": "stream",
     "text": [
      "MMIO Debug: Writing 4 bytes to offset 68: 1f38\n",
      "MMIO Debug: Writing 4 bytes to offset 68: 20c0\n",
      "MMIO Debug: Writing 4 bytes to offset 68: 10c0\n",
      "MMIO Debug: Writing 4 bytes to offset 68: 1e38\n"
     ]
    }
   ],
   "source": [
    "# PMODNav setup\n",
    "WRITE_OFFSET = 0x68 #SPI_DTR, SPI data transmit\n",
    "CTRL_REG5_XL = 0x1F\n",
    "CTRL_REG6_XL = 0x20\n",
    "WRITE_CFG  = 0x7F\n",
    "READ_CFG = 1<<7\n",
    "CTRL_REG1_G = 0x10\n",
    "CTRL_REG4 = 0x1E\n",
    "\n",
    "ADDRESS = CTRL_REG5_XL & WRITE_CFG\n",
    "DATA = 0x38 # enable all 3 GYRO axis\n",
    "MESSAGE = (ADDRESS << 8) | DATA\n",
    "\n",
    "QSPI_CORE.write(WRITE_OFFSET,MESSAGE)\n",
    "\n",
    "ADDRESS = CTRL_REG6_XL & WRITE_CFG\n",
    "DATA = 0xC0  # set GYRO odr to 952 Hz\n",
    "MESSAGE = (ADDRESS << 8) | DATA\n",
    "\n",
    "QSPI_CORE.write(WRITE_OFFSET,MESSAGE)\n",
    "\n",
    "ADDRESS = CTRL_REG1_G & WRITE_CFG\n",
    "DATA = 0xC0\n",
    "MESSAGE = (ADDRESS << 8) | DATA\n",
    "\n",
    "QSPI_CORE.write(WRITE_OFFSET,MESSAGE)\n",
    "\n",
    "ADDRESS = CTRL_REG4 & WRITE_CFG\n",
    "DATA = 0x38\n",
    "MESSAGE = (ADDRESS << 8) | DATA\n",
    "\n",
    "QSPI_CORE.write(WRITE_OFFSET,MESSAGE)"
   ]
  },
  {
   "cell_type": "code",
   "execution_count": 43,
   "metadata": {},
   "outputs": [
    {
     "name": "stdout",
     "output_type": "stream",
     "text": [
      "MMIO Debug: Writing 4 bytes to offset 68: 8f00\n",
      "MMIO Debug: Reading 4 bytes from offset 6c\n",
      "offset: 6c\tdata: ff68\n"
     ]
    }
   ],
   "source": [
    "# testing read WHO_AM_I\n",
    "GYRO_WHO_AM_I = 0x0F\n",
    "\n",
    "# writing read command to PMODNav WHO_AM_I register 0x0F\n",
    "WRITE_OFFSET = 0x68\n",
    "ADDRESS = GYRO_WHO_AM_I | READ_CFG\n",
    "DATA = 0x00\n",
    "MESSAGE = (ADDRESS << 8) | DATA ### Testing read from SPI Core\n",
    "QSPI_CORE.write(WRITE_OFFSET, MESSAGE) # try to send data\n",
    "\n",
    "# reading response from PMODNav from SPI core\n",
    "READ_OFFSET = 0x6C #SPI_DRR, SPI data reveive\n",
    "\n",
    "r1 = QSPI_CORE.read(READ_OFFSET)\n",
    "#r2 = SPI_CORE.read(0x7400)\n",
    "\n",
    "print('offset: {0:x}\\t'.format(READ_OFFSET) + 'data: {0:x}'.format(r1))\n",
    "#print('offset: {0:x}\\t'.format(0x7400) + 'data: {0:x}'.format(r2))"
   ]
  },
  {
   "cell_type": "markdown",
   "metadata": {},
   "source": [
    "## testing read from SPI_DATA and SPI_TEST"
   ]
  },
  {
   "cell_type": "code",
   "execution_count": 46,
   "metadata": {},
   "outputs": [
    {
     "name": "stdout",
     "output_type": "stream",
     "text": [
      "MMIO Debug: Reading 4 bytes from offset 0\n",
      "data: ffff\n",
      "MMIO Debug: Reading 4 bytes from offset 4\n",
      "data: 2222\n",
      "MMIO Debug: Reading 4 bytes from offset 8\n",
      "data: 3333\n",
      " \n",
      "done\n"
     ]
    }
   ],
   "source": [
    "###### pmod_data is 32 bits\n",
    "##### pmod_test is 16 bits\n",
    "index_0 = 0x00\n",
    "index_1 = 0x04\n",
    "index_2 = 0x08\n",
    "index_3 = 0x0C\n",
    "index_4 = 0x10\n",
    "index_5 = 0x14\n",
    "index_6 = 0x18\n",
    "index_7 = 0x1C\n",
    "\n",
    "\n",
    "TEST_READ1 = SPI_DATA.read(index_0) # 16 bit version, see HLS\n",
    "print('data: {0:x}'.format(TEST_READ1))\n",
    "\n",
    "TEST_READ2 = SPI_DATA.read(index_1) # 32 bit version, see HLS\n",
    "print('data: {0:x}'.format(TEST_READ2))\n",
    "\n",
    "TEST_READ5 = SPI_DATA.read(index_2) # 32 bit version, see HLS\n",
    "print('data: {0:x}'.format(TEST_READ5))\n",
    "\n",
    "#TEST_READ3 = SPI_TEST.read(index_1)\n",
    "#print('data: {0:x}'.format(TEST_READ3))\n",
    "\n",
    "#TEST_READ4 = SPI_TEST.read(index_2)\n",
    "#print('data: {0:x}'.format(TEST_READ4))\n",
    "\n",
    "#572719103d = 2222FFFF, when reading from SPI_TEST.read(index_0)\n",
    "#1145320243 = 44443333, when reading from SPI_TEST.read(index_1)\n",
    "\n",
    "#TEST_READ2 = POS_DATA.read(index_1)\n",
    "#print(TEST_READ2)\n",
    "#TEST_READ3 = POS_TEST.read(index_1)\n",
    "#print(TEST_READ3)\n",
    "\n",
    "print(' ')\n",
    "print('done')"
   ]
  },
  {
   "cell_type": "markdown",
   "metadata": {},
   "source": [
    "### Testing SPI vein integrated with AXI Quad SPI, AXI_SPI_Sriver (custom), and positionCtrl (custom)"
   ]
  },
  {
   "cell_type": "code",
   "execution_count": 45,
   "metadata": {},
   "outputs": [
    {
     "name": "stdout",
     "output_type": "stream",
     "text": [
      "MMIO Debug: Writing 4 bytes to offset 0: 45\n"
     ]
    },
    {
     "ename": "NameError",
     "evalue": "name 'POS_DATA' is not defined",
     "output_type": "error",
     "traceback": [
      "\u001b[0;31m---------------------------------------------------------------------------\u001b[0m",
      "\u001b[0;31mNameError\u001b[0m                                 Traceback (most recent call last)",
      "\u001b[0;32m<ipython-input-45-14bf0bc16ddd>\u001b[0m in \u001b[0;36m<module>\u001b[0;34m()\u001b[0m\n\u001b[1;32m      3\u001b[0m \u001b[0;31m#UART_Data.write(0x00,0x45)\u001b[0m\u001b[0;34m\u001b[0m\u001b[0;34m\u001b[0m\u001b[0m\n\u001b[1;32m      4\u001b[0m \u001b[0mSPI_DATA\u001b[0m\u001b[0;34m.\u001b[0m\u001b[0mwrite\u001b[0m\u001b[0;34m(\u001b[0m\u001b[0;36m0x0000\u001b[0m\u001b[0;34m,\u001b[0m\u001b[0;36m0x0045\u001b[0m\u001b[0;34m)\u001b[0m\u001b[0;34m\u001b[0m\u001b[0m\n\u001b[0;32m----> 5\u001b[0;31m \u001b[0mPOS_DATA\u001b[0m\u001b[0;34m.\u001b[0m\u001b[0mwrite\u001b[0m\u001b[0;34m(\u001b[0m\u001b[0;36m0x0000\u001b[0m\u001b[0;34m,\u001b[0m\u001b[0;36m0x0045\u001b[0m\u001b[0;34m)\u001b[0m\u001b[0;34m\u001b[0m\u001b[0m\n\u001b[0m\u001b[1;32m      6\u001b[0m \u001b[0mPOS_TEST\u001b[0m\u001b[0;34m.\u001b[0m\u001b[0mwrite\u001b[0m\u001b[0;34m(\u001b[0m\u001b[0;36m0x0000\u001b[0m\u001b[0;34m,\u001b[0m\u001b[0;36m0x0045\u001b[0m\u001b[0;34m)\u001b[0m\u001b[0;34m\u001b[0m\u001b[0m\n\u001b[1;32m      7\u001b[0m \u001b[0;34m\u001b[0m\u001b[0m\n",
      "\u001b[0;31mNameError\u001b[0m: name 'POS_DATA' is not defined"
     ]
    }
   ],
   "source": [
    "\n",
    "# HLS test write\n",
    "#UART_Data.write(0x00,0x45)\n",
    "SPI_DATA.write(0x0000,0x0045)\n",
    "POS_DATA.write(0x0000,0x0045)\n",
    "POS_TEST.write(0x0000,0x0045)\n",
    "\n",
    "# HLS test read\n",
    "TEST_READ1 = SPI_DATA.read(0x0000)\n",
    "TEST_READ2 = POS_DATA.read(0x0000)\n",
    "TEST_READ3 = POS_TEST.read(0x0000)\n",
    "\n",
    "print('Test Data: ')\n",
    "print(TEST_READ1)\n",
    "print('')\n",
    "print('Test Data: ')\n",
    "print(TEST_READ2)\n",
    "print('')\n",
    "print('Test Data: ')\n",
    "print(TEST_READ3)\n",
    "print('')\n",
    "\n",
    "print('')\n",
    "print('done')"
   ]
  },
  {
   "cell_type": "code",
   "execution_count": null,
   "metadata": {},
   "outputs": [],
   "source": [
    "\n",
    "\n",
    "# Address space definitions for PMODNAV\n",
    "ACC_X_L_ADDR   =  0x28\n",
    "MAG_X_L_ADDR   =  0x28\n",
    "GYRO_X_L_ADDR  =  0x18\n",
    "ALT_X_L_ADDR   =  0x28\n",
    "\n",
    "CTRL_REG6_XL_ADDR  =  0x20\n",
    "\n",
    "X_DIR_SEL    =   0x01\n",
    "Y_DIR_SEL    =   0x02\n",
    "Z_DIR_SEL    =   0x03\n",
    "\n",
    "READ_CFG    =   0x80  # bit 7 high\n",
    "WRITE_CFG   =   0x7F  # bit 7 low\n",
    "MS_CFG      =   0xC0  # 11000000\n",
    "\n",
    "STATE_ON    =   0x01\n",
    "STATE_OFF   =   0x00\n",
    "\n",
    "CTRL_REG5_XL =  0x1F\n",
    "CTRL_REG6_XL =  0x20\n",
    "CTRL_REG4    =  0x1E\n",
    "\n",
    "CTRL_REG1_M  =  0x20\n",
    "CTRL_REG2_M  =  0x21\n",
    "CTRL_REG3_M  =  0x22\n",
    "CTRL_REG4_M  =  0x23\n",
    "CTRL_REG5_M  =  0x24\n",
    "\n",
    "CTRL_REG1_G  =  0x10\n",
    "CTRL_REG2_G  =  0x11\n",
    "CTRL_REG3_G  =  0x12\n",
    "\n",
    "CTRL_REG1_ALT = 0x20\n",
    "CTRL_REG2_ALT = 0x21\n",
    "CTRL_REG4_ALT = 0x23\n",
    "\n",
    "GYRO_WHO_AM_I  = 0x0F\n",
    "# end PMODNav definitions"
   ]
  },
  {
   "cell_type": "code",
   "execution_count": null,
   "metadata": {},
   "outputs": [],
   "source": [
    "# testing SPI output\n",
    "\n",
    "# SPI CORE config\n",
    "IP_BASE_ADDRESS = 0x41E00000\n",
    "ADDRESS_RANGE = 0xFFFF\n",
    "\n",
    "\n",
    "# Address space definitions for PMODNAV\n",
    "ACC_X_L_ADDR   =  0x28\n",
    "MAG_X_L_ADDR   =  0x28\n",
    "GYRO_X_L_ADDR  =  0x18\n",
    "ALT_X_L_ADDR   =  0x28\n",
    "\n",
    "CTRL_REG6_XL_ADDR  =  0x20\n",
    "\n",
    "X_DIR_SEL    =   0x01\n",
    "Y_DIR_SEL    =   0x02\n",
    "Z_DIR_SEL    =   0x03\n",
    "\n",
    "READ_CFG    =   0x80  # bit 7 high\n",
    "WRITE_CFG   =   0x7F  # bit 7 low\n",
    "MS_CFG      =   0xC0  # 11000000\n",
    "\n",
    "STATE_ON    =   0x01\n",
    "STATE_OFF   =   0x00\n",
    "\n",
    "CTRL_REG5_XL =  0x1F\n",
    "CTRL_REG6_XL =  0x20\n",
    "CTRL_REG4    =  0x1E\n",
    "\n",
    "CTRL_REG1_M  =  0x20\n",
    "CTRL_REG2_M  =  0x21\n",
    "CTRL_REG3_M  =  0x22\n",
    "CTRL_REG4_M  =  0x23\n",
    "CTRL_REG5_M  =  0x24\n",
    "\n",
    "CTRL_REG1_G  =  0x10\n",
    "CTRL_REG2_G  =  0x11\n",
    "CTRL_REG3_G  =  0x12\n",
    "\n",
    "CTRL_REG1_ALT = 0x20\n",
    "CTRL_REG2_ALT = 0x21\n",
    "CTRL_REG4_ALT = 0x23\n",
    "\n",
    "GYRO_WHO_AM_I  = 0x0F\n",
    "# end PMODNav definitions\n",
    "\n",
    "# creating SPI CORE object for messages\n",
    "SPI_CORE = MMIO(IP_BASE_ADDRESS,ADDRESS_RANGE)\n",
    "\n",
    "# this is a basic configuration of the SPI core\n",
    "# I would read through the docs a bit more and make sure this is correct\n",
    "# it seems to work as is, 8 bit addres and 8 bit data with SS and CLK\n",
    "\n",
    "# testing config\n",
    "SPI_CORE.write(0x60, 0x006) # enable SPI core in master mode, auto SS\n",
    "SPI_CORE.write(0x70, 0xFFFE) # enable SS 0\n",
    "\n",
    "\n",
    "\n",
    "print('done')\n"
   ]
  },
  {
   "cell_type": "code",
   "execution_count": null,
   "metadata": {},
   "outputs": [],
   "source": [
    "# testing write\n",
    "\n",
    "OFFSET = 0x68\n",
    "\n",
    "ADDRESS = 0X55\n",
    "DATA = 0X55\n",
    "\n",
    "# I put this together for a basic configuration of the messages\n",
    "# each read/write needs to be tailored so\n",
    "MESSAGE = (ADDRESS << 8) | DATA \n",
    "\n",
    "SPI_CORE.write(OFFSET, MESSAGE) # try to send data\n",
    "\n",
    "#ADDRESS = 0XDE\n",
    "#DATA = 0XAD\n",
    "\n",
    "# I put this together for a basic configuration of the messages\n",
    "# each read/write needs to be tailored so\n",
    "#MESSAGE = (ADDRESS << 8) | DATA \n",
    "\n",
    "#SPI_CORE.write(OFFSET, MESSAGE) # try to send data\n",
    "\n",
    "#ADDRESS = 0XBE\n",
    "#DATA = 0XEF\n",
    "#MESSAGE = (ADDRESS << 8) | DATA \n",
    "\n",
    "#SPI_CORE.write(OFFSET, MESSAGE) # try to send data\n",
    "\n",
    "#print('done')"
   ]
  },
  {
   "cell_type": "code",
   "execution_count": null,
   "metadata": {},
   "outputs": [],
   "source": []
  },
  {
   "cell_type": "code",
   "execution_count": null,
   "metadata": {},
   "outputs": [],
   "source": []
  },
  {
   "cell_type": "code",
   "execution_count": null,
   "metadata": {},
   "outputs": [],
   "source": []
  },
  {
   "cell_type": "code",
   "execution_count": null,
   "metadata": {},
   "outputs": [],
   "source": []
  },
  {
   "cell_type": "code",
   "execution_count": null,
   "metadata": {},
   "outputs": [],
   "source": []
  },
  {
   "cell_type": "code",
   "execution_count": null,
   "metadata": {},
   "outputs": [],
   "source": []
  },
  {
   "cell_type": "code",
   "execution_count": null,
   "metadata": {},
   "outputs": [],
   "source": []
  }
 ],
 "metadata": {
  "kernelspec": {
   "display_name": "Python 3",
   "language": "python",
   "name": "python3"
  },
  "language_info": {
   "codemirror_mode": {
    "name": "ipython",
    "version": 3
   },
   "file_extension": ".py",
   "mimetype": "text/x-python",
   "name": "python",
   "nbconvert_exporter": "python",
   "pygments_lexer": "ipython3",
   "version": "3.6.5"
  }
 },
 "nbformat": 4,
 "nbformat_minor": 2
}
