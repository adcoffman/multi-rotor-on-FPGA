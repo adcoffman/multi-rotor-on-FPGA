{
 "cells": [
  {
   "cell_type": "markdown",
   "metadata": {},
   "source": [
    "# Kalman Filter Design for Pmod Nav"
   ]
  },
  {
   "cell_type": "markdown",
   "metadata": {},
   "source": [
    "Below are the steps that I've taken to design Kalman filter"
   ]
  },
  {
   "cell_type": "markdown",
   "metadata": {},
   "source": [
    "### Chose the State Variables"
   ]
  },
  {
   "cell_type": "markdown",
   "metadata": {},
   "source": [
    "Recall that the Kalman filter state transition must be written as $\\mathbf{\\bar x} = \\mathbf{Fx} + \\mathbf{Bu} + \\mathbf{Gw}$, which means we must calculate the current state from the previous state. The matrix $\\mathbf{B}$ models how the control inputs affect the behavior of the system. The vector $\\mathbf{u}$ lets you specify a control input into the filter. $\\mathbf{w}$ is white noise with known covariance. For our sensor the control input will be gravity. For now, we design the state variable to be\n",
    "\n",
    "$$\n",
    "\\mathbf x = \n",
    "\\begin{bmatrix}\\phi & \\theta & \\psi & \\dot u & \\dot v & \\dot w\n",
    "\\end{bmatrix}^\\mathsf T\n",
    "$$\n",
    "\n",
    "$\\mathbf{\\phi}$ $\\mathbf{\\theta}$ $\\mathbf{\\psi}$ represent Euler\n",
    "angles with respect to the inertial frame\n",
    "\n",
    "$\\mathbf{\\dot u}$ $\\mathbf{\\dot v}$ $\\mathbf{\\dot w}$ represent acceleration expressed in the body frame"
   ]
  },
  {
   "cell_type": "code",
   "execution_count": null,
   "metadata": {},
   "outputs": [],
   "source": []
  },
  {
   "cell_type": "markdown",
   "metadata": {},
   "source": [
    "## References\n",
    "\n",
    "[1] https://www.aero.psu.edu/avia/pubs/dissertation_ss.pdf\n",
    "\n",
    "[2] https://github.com/rlabbe/Kalman-and-Bayesian-Filters-in-Python"
   ]
  },
  {
   "cell_type": "code",
   "execution_count": null,
   "metadata": {},
   "outputs": [],
   "source": []
  }
 ],
 "metadata": {
  "kernelspec": {
   "display_name": "Python 3",
   "language": "python",
   "name": "python3"
  },
  "language_info": {
   "codemirror_mode": {
    "name": "ipython",
    "version": 3
   },
   "file_extension": ".py",
   "mimetype": "text/x-python",
   "name": "python",
   "nbconvert_exporter": "python",
   "pygments_lexer": "ipython3",
   "version": "3.7.1"
  }
 },
 "nbformat": 4,
 "nbformat_minor": 2
}
