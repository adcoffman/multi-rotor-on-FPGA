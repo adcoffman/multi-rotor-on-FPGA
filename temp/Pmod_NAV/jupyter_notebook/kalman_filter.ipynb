{
 "cells": [
  {
   "cell_type": "markdown",
   "metadata": {},
   "source": [
    "# Kalman Filter Design for Pmod Nav"
   ]
  },
  {
   "cell_type": "markdown",
   "metadata": {},
   "source": [
    "Below are the steps that I've taken to design Kalman filter"
   ]
  },
  {
   "cell_type": "markdown",
   "metadata": {},
   "source": [
    "### Choose the State Variables"
   ]
  },
  {
   "cell_type": "markdown",
   "metadata": {},
   "source": [
    "Recall that the Kalman filter state transition must be written as $\\mathbf{\\bar x} = \\mathbf{Fx} + \\mathbf{Bu} + \\mathbf{Gw}$, which means we must calculate the current state from the previous state. The matrix $\\mathbf{B}$ models how the control inputs affect the behavior of the system. The vector $\\mathbf{u}$ lets you specify a control input into the filter. $\\mathbf{w}$ is white noise with known covariance. For our sensor the control input will be gravity. For now, we design the state variable to be\n",
    "\n",
    "$$\n",
    "\\mathbf x = \n",
    "\\begin{bmatrix}\\phi & r_\\phi & \\theta & r_\\theta & \\psi & r_\\psi & u & v & w\n",
    "\\end{bmatrix}^\\mathsf T\n",
    "$$\n",
    "\n",
    "$\\phi$ $\\theta$ $\\psi$ represent Euler\n",
    "angles with respect to the inertial frame (roll, pitch, yaw)\n",
    "\n",
    "$r_\\phi$ $r_\\theta$ $r_\\psi$ represent Euler angle rates with respect to the inertial frame (gyroscope)\n",
    "\n",
    "$u$ $v$ $w$ represent acceleration expressed in the body frame (accelerometer)"
   ]
  },
  {
   "cell_type": "markdown",
   "metadata": {},
   "source": [
    "### Design State Transition Function\n",
    "\n",
    "Our next step is to design the state transition function. Recall that the state transition function is implemented as a matrix $\\mathbf F$ that we multiply with the previous state of our system to get the next state, or prior $\\bar{\\mathbf x} = \\mathbf{Fx}$."
   ]
  },
  {
   "cell_type": "markdown",
   "metadata": {},
   "source": [
    "State equations for Euler angles, Euler angle rates, and acceleration\n",
    "\n",
    "THIS IS REALLY HARD TO FOLLOW, RE-STRUCTURE CODE\n",
    "$$\n",
    "\\begin{aligned}\n",
    "\\bar \\phi &= (1 * \\phi) + (\\Delta t * r_\\phi) + (0*\\theta) + (0*r_\\theta) + (0*\\psi) + (0*r_\\psi) + (0*u) + (0*v) + (0*w) \\\\\n",
    "\\bar r_\\phi &= (0*\\phi) + (1 * r_\\phi) + (0*\\theta) + (0*r_\\theta) + (0*\\psi) + (0*r_\\psi) + (0*u) + (0*v) + (0*w) \\\\\n",
    "\\bar \\theta &= (0*\\phi) + (0* r_\\phi) + (1 * \\theta) + (\\Delta t * r_\\theta) + (0*\\psi) + (0*r_\\psi) + (0*u) + (0*v) + (0*w) \\\\\n",
    "\\bar r_\\theta &= (0*\\phi) + (0*r_\\phi) + (0*\\theta) + (1 * r_\\theta) + (0*\\psi) + (0*r_\\psi) + (0*u) + (0*v) + (0*w) \\\\\n",
    "\\bar \\psi &= (0*\\phi) + (0*r_\\phi) + (0*\\theta) + (0*r_\\theta) + (1 * \\psi) + (\\Delta t * r_\\psi) + (0*u) + (0*v) + (0*w)   \\\\\n",
    "\\bar r_\\psi &= (0*\\phi) + (0*r_\\phi) + (0*\\theta) + (0*r_\\theta) + (0*\\psi) + (1 * r_\\psi) + (0*u) + (0*v) + (0*w)   \\\\\n",
    "\\bar u &= (0*\\phi) + (\\Delta t * r_\\phi) + (0*\\theta) + (0*r_\\theta) + (0*\\psi) + (0*r_\\psi) + (1 * u) + (0*v) + (0*w) \\\\\n",
    "\\bar v &= (0*\\phi) + (\\Delta t * r_\\phi) + (0*\\theta) + (0*r_\\theta) + (0*\\psi) + (0*r_\\psi) + (0*u) + (1 * v) + (0*w) \\\\\n",
    "\\bar w &= (0*\\phi) + (\\Delta t * r_\\phi) + (0*\\theta) + (0*r_\\theta) + (0*\\psi) + (0*r_\\psi) + (0*u) + (0*v) + (1 * w) \\\\\n",
    "\\end{aligned}\n",
    "$$"
   ]
  },
  {
   "cell_type": "markdown",
   "metadata": {},
   "source": [
    "## References\n",
    "\n",
    "[1] https://www.aero.psu.edu/avia/pubs/dissertation_ss.pdf\n",
    "\n",
    "[2] https://github.com/rlabbe/Kalman-and-Bayesian-Filters-in-Python\n",
    "\n",
    "[3] https://www.jhuapl.edu/techdigest/TD/td3102/31_02-Barton.pdf"
   ]
  },
  {
   "cell_type": "code",
   "execution_count": null,
   "metadata": {},
   "outputs": [],
   "source": []
  }
 ],
 "metadata": {
  "kernelspec": {
   "display_name": "Python 3",
   "language": "python",
   "name": "python3"
  },
  "language_info": {
   "codemirror_mode": {
    "name": "ipython",
    "version": 3
   },
   "file_extension": ".py",
   "mimetype": "text/x-python",
   "name": "python",
   "nbconvert_exporter": "python",
   "pygments_lexer": "ipython3",
   "version": "3.7.1"
  }
 },
 "nbformat": 4,
 "nbformat_minor": 2
}
