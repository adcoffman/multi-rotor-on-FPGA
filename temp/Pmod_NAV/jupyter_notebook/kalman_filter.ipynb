{
 "cells": [
  {
   "cell_type": "markdown",
   "metadata": {},
   "source": [
    "# Kalman Filter Design for Pmod Nav"
   ]
  },
  {
   "cell_type": "markdown",
   "metadata": {},
   "source": [
    "Simulate Pmod Nav Sensor to test Kalman Filter. Initialized with angle position, angle rate and noise standard deviation. Each call to `read()` updates the position by one time step and returns the new measurement."
   ]
  },
  {
   "cell_type": "code",
   "execution_count": 4,
   "metadata": {},
   "outputs": [],
   "source": [
    "from numpy.random import randn\n",
    "\n",
    "class NavSensor(object):\n",
    "    def __init__(self, angle=(0, 0, 0), angle_rate=(0, 0 ,0), noise_std=1.):\n",
    "        self.angle_rate = angle_rate\n",
    "        self.noise_std = noise_std\n",
    "        self.angle = [angle[0], angle[1], angle[2]]\n",
    "        \n",
    "    def read(self):\n",
    "        self.angle[0] += self.angle_rate[0]\n",
    "        self.angle[1] += self.angle_rate[1]\n",
    "        self.angle[2] += self.angle_rate[2]\n",
    "        \n",
    "        return [self.angle[0] + randn() * self.noise_std,\n",
    "                self.angle[1] + randn() * self.noise_std,\n",
    "                self.angle[2] + randn() * self.noise_std]"
   ]
  },
  {
   "cell_type": "markdown",
   "metadata": {},
   "source": [
    "Testing that sensor simulation works"
   ]
  },
  {
   "cell_type": "code",
   "execution_count": 7,
   "metadata": {},
   "outputs": [
    {
     "data": {
      "image/png": "[encoded data removed]",
      "text/plain": [
       "<Figure size 432x288 with 1 Axes>"
      ]
     },
     "metadata": {
      "needs_background": "light"
     },
     "output_type": "display_data"
    }
   ],
   "source": [
    "import matplotlib.pyplot as plt\n",
    "import numpy as np\n",
    "\n",
    "angle, angle_rate = (0, 0, 0), (1, 5, 10)\n",
    "sensor = NavSensor(angle, angle_rate, noise_std=1)\n",
    "ns = np.array([sensor.read() for _ in range(50)])\n",
    "x_line = np.linspace(0,50)\n",
    "plt.plot(x_line,ns[:, 0]);\n",
    "plt.plot(x_line,ns[:, 1]);\n",
    "plt.plot(x_line,ns[:, 2]);"
   ]
  },
  {
   "cell_type": "markdown",
   "metadata": {},
   "source": [
    "Below are the steps that I've taken to design Kalman filter"
   ]
  },
  {
   "cell_type": "markdown",
   "metadata": {},
   "source": [
    "### Choose the State Variables"
   ]
  },
  {
   "cell_type": "markdown",
   "metadata": {},
   "source": [
    "Recall that the Kalman filter state transition must be written as $\\mathbf{\\bar x} = \\mathbf{Fx} + \\mathbf{Bu} + \\mathbf{Gw}$, which means we must calculate the current state from the previous state. The matrix $\\mathbf{B}$ models how the control inputs affect the behavior of the system. The vector $\\mathbf{u}$ lets you specify a control input into the filter. $\\mathbf{w}$ is white noise with known covariance. For our sensor the control input will be gravity. For now, we design the state variable to be\n",
    "\n",
    "$$\n",
    "\\mathbf x = \n",
    "\\begin{bmatrix}\\phi & r_\\phi & \\theta & r_\\theta & \\psi & r_\\psi\n",
    "\\end{bmatrix}^\\mathsf T\n",
    "$$\n",
    "\n",
    "$\\phi$ $\\theta$ $\\psi$ represent Euler\n",
    "angles with respect to the inertial frame (roll, pitch, yaw)\n",
    "\n",
    "\n",
    "$r_\\phi$ $r_\\theta$ $r_\\psi$ represent Euler angle rates with respect to the inertial frame (gyroscope)\n",
    "\n",
    "----------------------------------------------------------\n",
    "Other variable descriptions:\n",
    "\n",
    "$u$ $v$ $w$ represent acceleration expressed in the body frame (accelerometer)"
   ]
  },
  {
   "cell_type": "markdown",
   "metadata": {},
   "source": [
    "### Design State Transition Function\n",
    "\n",
    "Our next step is to design the state transition function. Recall that the state transition function is implemented as a matrix $\\mathbf F$ that we multiply with the previous state of our system to get the next state, or prior $\\bar{\\mathbf x} = \\mathbf{Fx}$."
   ]
  },
  {
   "cell_type": "markdown",
   "metadata": {},
   "source": [
    "State equations for Euler angles\n",
    "\n",
    "\n",
    "$$\n",
    "\\begin{aligned}\n",
    "\\bar \\phi &= (1 * \\phi) + (\\Delta t * r_\\phi) + (0*\\theta) + (0*r_\\theta) + (0*\\psi) + (0*r_\\psi) \\\\\n",
    "\\bar r_\\phi &= (0 * \\phi) + (1 * r_\\phi) + (0*\\theta) + (0*r_\\theta) + (0*\\psi) + (0*r_\\psi) \\\\\n",
    "\\bar \\theta &= (0*\\phi) + (0* r_\\phi) + (1 * \\theta) + (\\Delta t * r_\\theta) + (0*\\psi) + (0*r_\\psi) \\\\\n",
    "\\bar r_\\theta &= (0*\\phi) + (0* r_\\phi) + (0 * \\theta) + (1 * r_\\theta) + (0*\\psi) + (0*r_\\psi) \\\\\n",
    "\\bar \\psi &= (0*\\phi) + (0*r_\\phi) + (0*\\theta) + (0*r_\\theta) + (1 * \\psi) + (\\Delta t * r_\\psi) \\\\\n",
    "\\bar r_\\psi &= (0*\\phi) + (0*r_\\phi) + (0*\\theta) + (0*r_\\theta) + (0 * \\psi) + (1 * r_\\psi) \\\\\n",
    "\\end{aligned}\n",
    "$$"
   ]
  },
  {
   "cell_type": "markdown",
   "metadata": {},
   "source": [
    "Converting to matrix-vector form:\n",
    "\n",
    "$$\n",
    "\\begin{bmatrix}\\bar \\phi \\\\ \\bar r_\\phi \\\\ \\bar \\theta \\\\ \\bar r_\\theta \\\\ \\bar \\psi \\\\ \\bar r_\\theta \\end{bmatrix} = \\begin{bmatrix}1& \\Delta t& 0& 0 & 0 & 0\\\\0& 1& 0& 0 &0 & 0\\\\0& 0& 1& \\Delta t & 0 & 0\\\\ 0& 0& 0& 1 &0 &0 \\\\0&0&0&0&1& \\Delta t\\\\ 0&0&0&0&0&1\\end{bmatrix}\\begin{bmatrix}\\phi \\\\ r_\\phi \\\\ \\theta \\\\ r_\\theta \\\\ \\psi \\\\ r_\\psi \\end{bmatrix}$$"
   ]
  },
  {
   "cell_type": "code",
   "execution_count": null,
   "metadata": {},
   "outputs": [],
   "source": [
    "from filterpy.kalman import KalmanFilter\n",
    "\n",
    "tracker = KalmanFilter(dim_x=6, dim_z=2)\n",
    "dt = 1.   # time step 1 second\n",
    "\n",
    "tracker.F = np.array([[1,  dt, 0,  0, 0, 0],\n",
    "                      [0,  1,  0,  0, 0, 0],\n",
    "                      [0,  0,  1,  dt, 0, 0],\n",
    "                      [0,  0,  0,  1, 0, 0],\n",
    "                      [0,  0,  0,  0, 1, dt],\n",
    "                      [0,  0,  0,  0, 0, 1]])"
   ]
  },
  {
   "cell_type": "markdown",
   "metadata": {},
   "source": [
    "### Design the Process Noise Matrix\n",
    "\n",
    "FilterPy can compute the $\\mathbf Q$ matrix for us. For simplicity I will assume the noise is a discrete time Wiener process - that it is constant for each time period. This assumption allows me to use a variance to specify how much I think the model changes between steps."
   ]
  },
  {
   "cell_type": "code",
   "execution_count": 8,
   "metadata": {},
   "outputs": [
    {
     "ename": "NameError",
     "evalue": "name 'tracker' is not defined",
     "output_type": "error",
     "traceback": [
      "\u001b[0;31m---------------------------------------------------------------------------\u001b[0m",
      "\u001b[0;31mNameError\u001b[0m                                 Traceback (most recent call last)",
      "\u001b[0;32m<ipython-input-8-d7332f07159d>\u001b[0m in \u001b[0;36m<module>\u001b[0;34m\u001b[0m\n\u001b[1;32m      3\u001b[0m \u001b[0;34m\u001b[0m\u001b[0m\n\u001b[1;32m      4\u001b[0m \u001b[0mq\u001b[0m \u001b[0;34m=\u001b[0m \u001b[0mQ_discrete_white_noise\u001b[0m\u001b[0;34m(\u001b[0m\u001b[0mdim\u001b[0m\u001b[0;34m=\u001b[0m\u001b[0;36m2\u001b[0m\u001b[0;34m,\u001b[0m \u001b[0mdt\u001b[0m\u001b[0;34m=\u001b[0m\u001b[0mdt\u001b[0m\u001b[0;34m,\u001b[0m \u001b[0mvar\u001b[0m\u001b[0;34m=\u001b[0m\u001b[0;36m0.001\u001b[0m\u001b[0;34m)\u001b[0m\u001b[0;34m\u001b[0m\u001b[0;34m\u001b[0m\u001b[0m\n\u001b[0;32m----> 5\u001b[0;31m \u001b[0mtracker\u001b[0m\u001b[0;34m.\u001b[0m\u001b[0mQ\u001b[0m \u001b[0;34m=\u001b[0m \u001b[0mblock_diag\u001b[0m\u001b[0;34m(\u001b[0m\u001b[0mq\u001b[0m\u001b[0;34m,\u001b[0m \u001b[0mq\u001b[0m\u001b[0;34m)\u001b[0m\u001b[0;34m\u001b[0m\u001b[0;34m\u001b[0m\u001b[0m\n\u001b[0m\u001b[1;32m      6\u001b[0m \u001b[0mprint\u001b[0m\u001b[0;34m(\u001b[0m\u001b[0mtracker\u001b[0m\u001b[0;34m.\u001b[0m\u001b[0mQ\u001b[0m\u001b[0;34m)\u001b[0m\u001b[0;34m\u001b[0m\u001b[0;34m\u001b[0m\u001b[0m\n",
      "\u001b[0;31mNameError\u001b[0m: name 'tracker' is not defined"
     ]
    }
   ],
   "source": [
    "from scipy.linalg import block_diag\n",
    "from filterpy.common import Q_discrete_white_noise\n",
    "\n",
    "q = Q_discrete_white_noise(dim=2, dt=dt, var=0.001)\n",
    "tracker.Q = block_diag(q, q)\n",
    "print(tracker.Q)"
   ]
  },
  {
   "cell_type": "markdown",
   "metadata": {},
   "source": [
    "## References\n",
    "\n",
    "[1] https://www.aero.psu.edu/avia/pubs/dissertation_ss.pdf\n",
    "\n",
    "[2] https://github.com/rlabbe/Kalman-and-Bayesian-Filters-in-Python\n",
    "\n",
    "[3] https://www.jhuapl.edu/techdigest/TD/td3102/31_02-Barton.pdf"
   ]
  },
  {
   "cell_type": "code",
   "execution_count": null,
   "metadata": {},
   "outputs": [],
   "source": []
  },
  {
   "cell_type": "code",
   "execution_count": null,
   "metadata": {},
   "outputs": [],
   "source": []
  }
 ],
 "metadata": {
  "kernelspec": {
   "display_name": "Python 3",
   "language": "python",
   "name": "python3"
  },
  "language_info": {
   "codemirror_mode": {
    "name": "ipython",
    "version": 3
   },
   "file_extension": ".py",
   "mimetype": "text/x-python",
   "name": "python",
   "nbconvert_exporter": "python",
   "pygments_lexer": "ipython3",
   "version": "3.7.1"
  }
 },
 "nbformat": 4,
 "nbformat_minor": 2
}
