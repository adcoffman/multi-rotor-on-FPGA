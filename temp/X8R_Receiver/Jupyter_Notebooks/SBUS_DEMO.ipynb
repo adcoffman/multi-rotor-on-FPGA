{
 "cells": [
  {
   "cell_type": "code",
   "execution_count": 28,
   "metadata": {},
   "outputs": [],
   "source": [
    "#------------------------------------------------------------------------\n",
    "# WES 269 SBUS Demo Code\n",
    "#\n",
    "# This code serves as a baseline for configuring the UART16550 core\n",
    "# and polling data from the RX FIFO\n",
    "#------------------------------------------------------------------------\n",
    "\n",
    "from pynq import Overlay\n",
    "from pynq import MMIO\n",
    "import time\n",
    "import numpy as np"
   ]
  },
  {
   "cell_type": "code",
   "execution_count": 29,
   "metadata": {},
   "outputs": [
    {
     "name": "stdout",
     "output_type": "stream",
     "text": [
      "  \n",
      "0.7480342388153076 seconds to program bitstream\n"
     ]
    }
   ],
   "source": [
    "# Load bitstream\n",
    "ol = Overlay('SBUS_DEMO_ext_clk_inverter.bit')\n",
    "\n",
    "# Download bitstream to FPGA\n",
    "t_before_bitstream = time.time()\n",
    "ol.download()\n",
    "t_after_bitstream = time.time()\n",
    "print('  ')\n",
    "print(t_after_bitstream - t_before_bitstream, 'seconds to program bitstream')"
   ]
  },
  {
   "cell_type": "code",
   "execution_count": 30,
   "metadata": {},
   "outputs": [],
   "source": [
    "# Address space definitions\n",
    "IP_BASE_ADDRESS = 0X43C00000\n",
    "ADDRESS_RANGE = 0x10000\n",
    "\n",
    "RX_BUF_REG       =   0x1000        #Receiver Buffer Register              LCR[7] = 0\n",
    "TX_HOLD_REG      =   0x1000        #Transmitter Holding Register          LCR[7] = 0\n",
    "INT_EN_REG       =   0x1004        #Interrupt Enable Register             LCR[7] = 0\n",
    "INT_ID_REG       =   0x1008        #Interrupt Identification Register     LCR[7] = x\n",
    "FIFO_CNTRL_REG   =   0x1008        #FIFO Control Register                 LCR[7] = x (write), LCR[7] = 1 (read)\n",
    "LINE_CNTRL_REG   =   0x100C        #Line Control Register                 LCR[7] = x\n",
    "MODEM_CNTRL_REG  =   0x1010        #Modem Control Register                LCR[7] = x\n",
    "LINE_STATUS_REG  =   0x1014        #Line Status Register                  LCR[7] = x\n",
    "MODEM_STATUS_REG =   0x1018        #Modem Status Register                 LCR[7] = x\n",
    "SCRATCH_REG      =   0x101C        #Scratch Register                      LCR[7] = x\n",
    "DIV_LATCH_LSB    =   0x1000        #Divisor Latch LSB Register            LCR[7] = 1\n",
    "DIV_LATCH_MSB    =   0x1004        #Divisor Latch MSB Register            LCR[7] = 1\n",
    "\n",
    "NUM_BYTES        =   25\n",
    "START_BYTE     =   0xF0\n",
    "STOP_BYTE      =   0x00"
   ]
  },
  {
   "cell_type": "code",
   "execution_count": 31,
   "metadata": {},
   "outputs": [
    {
     "name": "stdout",
     "output_type": "stream",
     "text": [
      "UART16550 Core Configuration Complete\n"
     ]
    }
   ],
   "source": [
    "# configuring UART16550 core\n",
    "\n",
    "# enable divisor latch, set baud divisor\n",
    "mmio.write(LINE_CNTRL_REG, 0x80)\n",
    "#mmio.write(DIV_LATCH_LSB, 0x3E) # divide by 62 for 100MHz AXI clock\n",
    "mmio.write(DIV_LATCH_LSB, 0x1) # divide by 1 for external 1.6 MHz BAUD rate clock\n",
    "mmio.write(DIV_LATCH_MSB, 0x0)\n",
    "\n",
    "# configure data exchange, 100k BAUD, even parity, 2 stop bits, 8 data bits\n",
    "mmio.write(LINE_CNTRL_REG, 0x1F)\n",
    "\n",
    "# enable and configure FIFO\n",
    "mmio.write(FIFO_CNTRL_REG, 0x1)\n",
    "\n",
    "# reset FIFOs\n",
    "mmio.write(FIFO_CNTRL_REG, 0x7)\n",
    "mmio.write(FIFO_CNTRL_REG, 0x1)\n",
    "\n",
    "\n",
    "print('UART16550 Core Configuration Complete')"
   ]
  },
  {
   "cell_type": "code",
   "execution_count": 45,
   "metadata": {},
   "outputs": [],
   "source": [
    "# reset FIFOs\n",
    "\n",
    "mmio.write(FIFO_CNTRL_REG, 0x7)\n",
    "#mmio.write(FIFO_CNTRL_REG, 0x1)\n"
   ]
  },
  {
   "cell_type": "code",
   "execution_count": 46,
   "metadata": {},
   "outputs": [
    {
     "name": "stdout",
     "output_type": "stream",
     "text": [
      "Total bytes read:  0\n",
      "Total bytes read:  0\n",
      "Total bytes read:  0\n",
      "Total bytes read:  0\n",
      "Total bytes read:  0\n",
      "Total bytes read:  25\n",
      "f02322ee2ea3ac24021020f002020202020202020202020202\n"
     ]
    }
   ],
   "source": [
    "# grabbing data from the UART bus\n",
    "\n",
    "BIT_ONE = 0x00000001\n",
    "buffer = [0]*(NUM_BYTES)\n",
    "BYTES_READ = 0\n",
    "\n",
    "\n",
    "while(BYTES_READ != (NUM_BYTES)):\n",
    "    \n",
    "    #read from the RX FIFO when data present\n",
    "    while((mmio.read(LINE_STATUS_REG) & BIT_ONE) != 1):\n",
    "        pass\n",
    "    \n",
    "    buffer[0] = mmio.read(RX_BUF_REG)\n",
    "    if ( buffer[0] == 0xF0 ):\n",
    "        BYTES_READ += 1\n",
    "        for i in range(NUM_BYTES - 1):\n",
    "            buffer[BYTES_READ] = mmio.read(RX_BUF_REG)\n",
    "            BYTES_READ += 1\n",
    "    else:\n",
    "        pass\n",
    "    print('Total bytes read: ', BYTES_READ)\n",
    "    \n",
    "print(''.join('%02x'%i for i in buffer))   # printing buffer contents\n"
   ]
  },
  {
   "cell_type": "code",
   "execution_count": 47,
   "metadata": {},
   "outputs": [
    {
     "name": "stdout",
     "output_type": "stream",
     "text": [
      "Throttle Command:   547\n",
      "Roll Command:       1476\n",
      "Pitch Command:      1211\n",
      "Yaw Command:        1617\n"
     ]
    }
   ],
   "source": [
    "# parsing buffered packet into channel data\n",
    "\n",
    "# channel 1   Throttle\n",
    "# channel 2   Roll\n",
    "# channel 3   Pitch\n",
    "# channel 4   yaw\n",
    "\n",
    "NUM_CHANNELS = 4\n",
    "\n",
    "channel = [0]*NUM_CHANNELS\n",
    "\n",
    "# bit masking to parse 11 bit channel data from buffer\n",
    "channel[0] = (buffer[1]      | buffer[2] << 8)                    & 0x7FF\n",
    "channel[1] = (buffer[2] >> 3 | buffer[3] << 5)                    & 0x7FF\n",
    "channel[2] = (buffer[3] >> 6 | buffer[4] << 2 | buffer[5] << 10)  & 0x7FF\n",
    "channel[3] = (buffer[5] >> 1 | buffer[6] << 7)                    & 0x7FF\n",
    "\n",
    "\n",
    "print('Throttle Command:  ', channel[0])\n",
    "print('Roll Command:      ', channel[1])\n",
    "print('Pitch Command:     ', channel[2])\n",
    "print('Yaw Command:       ', channel[3])\n",
    "\n"
   ]
  },
  {
   "cell_type": "code",
   "execution_count": null,
   "metadata": {},
   "outputs": [],
   "source": []
  },
  {
   "cell_type": "code",
   "execution_count": null,
   "metadata": {},
   "outputs": [],
   "source": []
  },
  {
   "cell_type": "code",
   "execution_count": null,
   "metadata": {},
   "outputs": [],
   "source": []
  },
  {
   "cell_type": "code",
   "execution_count": null,
   "metadata": {},
   "outputs": [],
   "source": []
  },
  {
   "cell_type": "code",
   "execution_count": null,
   "metadata": {},
   "outputs": [],
   "source": []
  },
  {
   "cell_type": "code",
   "execution_count": 35,
   "metadata": {},
   "outputs": [
    {
     "name": "stdout",
     "output_type": "stream",
     "text": [
      "[163, 43, 246, 46, 163, 172, 36, 2, 16, 32, 2, 16, 32, 2, 240, 163, 16, 32, 2, 46, 46, 46, 46, 16, 163]\n",
      "\n",
      "a32bf62ea3ac2402102002102002f0a31020022e2e2e2e10a3\n",
      "\n",
      "[-164, -44, -247, -47, -164, -173, -37, -3, -17, -33, -3, -17, -33, -3, -241, -164, -17, -33, -3, -47, -47, -47, -47, -17, -164]\n",
      "\n",
      "-a4-2c-f7-2f-a4-ad-25-3-11-21-3-11-21-3-f1-a4-11-21-3-2f-2f-2f-2f-11-a4\n"
     ]
    }
   ],
   "source": [
    "#########################################\n",
    "# old code\n",
    "#########################################\n",
    "\n",
    "# grabbing data from the UART bus\n",
    "\n",
    "BIT_ONE = 0x00000001\n",
    "buffer = [0]*(NUM_BYTES)\n",
    "#buffer = [0]*(NUM_BYTES-1)\n",
    "BYTES_READ = 0\n",
    "\n",
    "test = [0]*(NUM_BYTES)\n",
    "\n",
    "\n",
    "while(BYTES_READ != (NUM_BYTES)):\n",
    "#while(BYTES_READ != (NUM_BYTES - 1)):\n",
    "    \n",
    "    #read from the RX FIFO when data present\n",
    "    #while((mmio.read(LINE_STATUS_REG) & BIT_ONE) != 1):\n",
    "        #pass\n",
    "    \n",
    "    #print(mmio.read(RX_BUF_REG))\n",
    "    #print(idx)\n",
    "    \n",
    "    #if(mmio.read(RX_BUF_REG) != 240):\n",
    "        #pass\n",
    "        #print('hard pass')\n",
    "        \n",
    "        \n",
    "    for index in range(NUM_BYTES):\n",
    "        buffer[index] = mmio.read(RX_BUF_REG)\n",
    "        BYTES_READ += 1\n",
    "        \n",
    "    #temp = mmio.read(RX_BUF_REG)\n",
    "    #if (temp != 240):\n",
    "    #    print(temp)\n",
    "    #else:\n",
    "    #    buffer[BYTES_READ] = mmio.read(RX_BUF_REG)\n",
    "    #    BYTES_READ += 1\n",
    "\n",
    "print(buffer) \n",
    "print('')\n",
    "print(''.join('%02x'%i for i in buffer))\n",
    "print('')\n",
    "\n",
    "for i in range(NUM_BYTES):\n",
    "    test[i] = ~buffer[i]\n",
    "    \n",
    "print(test)\n",
    "print('')\n",
    "print(''.join('%02x'%i for i in test))"
   ]
  },
  {
   "cell_type": "code",
   "execution_count": 36,
   "metadata": {},
   "outputs": [
    {
     "name": "stdout",
     "output_type": "stream",
     "text": [
      "buffer[1]:              43\n",
      "buffer[2]:              246\n",
      "buffer[2] last 3 bits:  6\n",
      "temp:                   63019\n",
      "temp2:                  1579\n",
      "temp3:                  1579\n",
      "start byte:             163\n",
      "channel 1:              1579\n"
     ]
    }
   ],
   "source": [
    "# testing grabbing channel 1\n",
    "\n",
    "print('buffer[1]:             ', buffer[1])\n",
    "print('buffer[2]:             ', buffer[2])\n",
    "print('buffer[2] last 3 bits: ', buffer[2] & 0x07)\n",
    "\n",
    "temp = buffer[1] | (buffer[2] << 8)\n",
    "temp2 = temp & 0x07FF\n",
    "temp3 = (buffer[1] | buffer[2] << 8) & 0x07FF\n",
    " \n",
    "print('temp:                  ', temp)\n",
    "print('temp2:                 ', temp2)\n",
    "print('temp3:                 ', temp3)\n",
    "\n",
    "start = buffer[0]\n",
    "print('start byte:            ', start)\n",
    "channel_1 = (buffer[1] | ( buffer[2] << 8 )) & 0x07FF\n",
    "\n",
    "print('channel 1:             ', channel_1)"
   ]
  },
  {
   "cell_type": "code",
   "execution_count": 37,
   "metadata": {},
   "outputs": [
    {
     "ename": "SyntaxError",
     "evalue": "invalid syntax (<ipython-input-37-a438acf29402>, line 3)",
     "output_type": "error",
     "traceback": [
      "\u001b[0;36m  File \u001b[0;32m\"<ipython-input-37-a438acf29402>\"\u001b[0;36m, line \u001b[0;32m3\u001b[0m\n\u001b[0;31m    while !quit:\u001b[0m\n\u001b[0m          ^\u001b[0m\n\u001b[0;31mSyntaxError\u001b[0m\u001b[0;31m:\u001b[0m invalid syntax\n"
     ]
    }
   ],
   "source": [
    "# TRAVIS IDEAS for infinite graph display\n",
    "\n",
    "while !quit:\n",
    "  get packet\n",
    "  update the graph\n",
    "  send stuff if the user wants to send stuff\n",
    "    i.e. break commands"
   ]
  }
 ],
 "metadata": {
  "kernelspec": {
   "display_name": "Python 3",
   "language": "python",
   "name": "python3"
  },
  "language_info": {
   "codemirror_mode": {
    "name": "ipython",
    "version": 3
   },
   "file_extension": ".py",
   "mimetype": "text/x-python",
   "name": "python",
   "nbconvert_exporter": "python",
   "pygments_lexer": "ipython3",
   "version": "3.6.5"
  }
 },
 "nbformat": 4,
 "nbformat_minor": 2
}
